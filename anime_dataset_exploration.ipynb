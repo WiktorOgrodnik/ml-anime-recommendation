{
 "cells": [
  {
   "cell_type": "code",
   "execution_count": null,
   "id": "0",
   "metadata": {},
   "outputs": [],
   "source": [
    "# Standard IPython notebook imports\n",
    "%matplotlib inline\n",
    "\n",
    "import os\n",
    "import csv\n",
    "import math\n",
    "import ast\n",
    "import json\n",
    "import shutil\n",
    "\n",
    "import pyarrow\n",
    "import pandas as pd\n",
    "import numpy as np\n",
    "import networkx as nx\n",
    "import matplotlib.pyplot as plt\n",
    "import sklearn.metrics\n",
    "\n",
    "import subprocess\n",
    "\n",
    "from tqdm.notebook import tqdm\n",
    "from itertools import chain\n",
    "from typing import Optional\n",
    "\n",
    "pd.options.display.max_colwidth = 300"
   ]
  },
  {
   "cell_type": "code",
   "execution_count": null,
   "id": "1",
   "metadata": {},
   "outputs": [],
   "source": [
    "users_csv=\"dataset/user-filtered.csv\"\n",
    "users_df = pd.read_csv(users_csv, sep=\",\")"
   ]
  },
  {
   "cell_type": "code",
   "execution_count": null,
   "id": "2",
   "metadata": {},
   "outputs": [],
   "source": [
    "def df_from_array(array):\n",
    "    return pd.DataFrame(data=array[1:,1:], index=array[1:,0], columns=array[0,1:])\n",
    "\n",
    "def read_data(file):\n",
    "    with open(file, newline='') as csvfile:\n",
    "        reader = csv.reader(csvfile, delimiter=',')\n",
    "        return [ np.array([i] + list(row)) for i, row in enumerate(reader, start=-1)]\n",
    "\n",
    "def get_genre_list(genres: str):\n",
    "  return list(map(lambda x: x.strip().lower(), genres.split(\",\")))\n",
    "\n",
    "def filter_out(word, col):\n",
    "  return lambda row: not (word.lower() in get_genre_list(row[col]))\n",
    "\n",
    "def filter_in(word, col):\n",
    "  return lambda row: (word.lower() in get_genre_list(row[col]))\n",
    "\n",
    "def create_two_mode_df(data):\n",
    "    sub_df = data[[\"anime_id\", \"English name\", \"Genres\"]]\n",
    "    result = [['id', 'source', 'target']]\n",
    "    i=0\n",
    "    for _, row in sub_df.iterrows():\n",
    "        for genre in get_genre_list(row['Genres']):\n",
    "            to_append = [i, row['English name'], genre]\n",
    "            result.append(to_append)\n",
    "            i+=1\n",
    "    return df_from_array(np.array(result))\n",
    "\n",
    "def create_weighted_matrix(two_mode_df):\n",
    "    assert(two_mode_df.columns.tolist() == ['source', 'target'])\n",
    "    source_uniq = two_mode_df['source'].unique()\n",
    "    source_len = source_uniq.shape[0]\n",
    "    source_dict = {k: v for v, k in enumerate(source_uniq)}\n",
    "    array = np.zeros((source_len, source_len), dtype=int)\n",
    "\n",
    "    for _, source1 in tqdm(two_mode_df.iterrows(), total=len(two_mode_df.index)):\n",
    "        for _, source2 in two_mode_df.iterrows():\n",
    "            if source1['target'] == source2['target']:\n",
    "                array[source_dict[source1['source']], source_dict[source2['source']]] += 1\n",
    "    return pd.DataFrame(data=array, columns=source_uniq, index=source_uniq)\n",
    "\n",
    "def create_weighted_matrix2(two_mode_df):\n",
    "    adj_df = pd.crosstab(two_mode_df.source, two_mode_df.target)\n",
    "    adj_np = adj_df.to_numpy()\n",
    "    adj_np2 = adj_np@adj_np.T\n",
    "    return (adj_np2, adj_df.index)\n",
    "\n",
    "\n",
    "def create_weighted_df(matrix_df):\n",
    "    result=[['', 'source', 'target', 'weight']]\n",
    "    c = 0\n",
    "    for rowIndex, row in tqdm(matrix_df.iterrows(), total=len(matrix_df.index)): #iterate over rows\n",
    "        for colIndex, value in row.items():\n",
    "            weight = matrix_df.at[rowIndex, colIndex]\n",
    "            if weight > 0:\n",
    "                to_append = [str(c), rowIndex, colIndex, weight]\n",
    "                result.append(to_append)\n",
    "                c += 1\n",
    "    return df_from_array(np.array(result))\n"
   ]
  },
  {
   "cell_type": "code",
   "execution_count": null,
   "id": "3",
   "metadata": {
    "id": "0d454c6f"
   },
   "outputs": [],
   "source": [
    "raw_data = read_data(two_mode_data)\n",
    "# raw_data = raw_data[:1000]"
   ]
  },
  {
   "cell_type": "code",
   "execution_count": null,
   "id": "4",
   "metadata": {
    "id": "a2acf600"
   },
   "outputs": [],
   "source": [
    "all_data = df_from_array(np.array(raw_data))"
   ]
  },
  {
   "cell_type": "code",
   "execution_count": null,
   "id": "5",
   "metadata": {
    "colab": {
     "base_uri": "https://localhost:8080/"
    },
    "id": "xJ6ZFL527NMK",
    "outputId": "1a7b4735-f1ab-4743-a2f5-dfeeb9470ea6"
   },
   "outputs": [],
   "source": [
    "all_data.columns"
   ]
  },
  {
   "cell_type": "code",
   "execution_count": null,
   "id": "6",
   "metadata": {
    "id": "1x5VJNbL8P-w"
   },
   "outputs": [],
   "source": [
    "all_data = all_data[(all_data['Score'] != \"UNKNOWN\") & (all_data['Score'] != '')].astype({'Score': 'float'})\n",
    "# all_data = all_data.drop(columns=['Synopsis', 'Aired', 'Image URL', 'Scored By', 'Members', 'Licensors'])\n",
    "# all_data = all_data[all_data['Score'] > 7.0]\n",
    "important_data = all_data.drop(columns=['Synopsis', 'Aired', 'Image URL', 'Scored By', 'Members', 'Licensors'])"
   ]
  },
  {
   "cell_type": "code",
   "execution_count": null,
   "id": "7",
   "metadata": {
    "id": "V4nlEVeEFFSa"
   },
   "outputs": [],
   "source": [
    "movies = important_data[important_data['Type'] == \"Movie\"]\n",
    "TVs = important_data[important_data['Type'] == \"TV\"]\n",
    "specials = important_data[important_data['Type'] == \"Special\"]\n",
    "\n",
    "specified = important_data\n",
    "\n",
    "not_hentai = specified[specified.apply(filter_out(\"Hentai\", 'Genres'), axis=1)]\n",
    "hentai = specified[specified.apply(filter_in(\"Hentai\", 'Genres'), axis=1)]\n",
    "\n",
    "mappa = not_hentai[not_hentai.apply(filter_in(\"Mappa\", \"Studios\"), axis=1)]"
   ]
  },
  {
   "cell_type": "code",
   "execution_count": null,
   "id": "8",
   "metadata": {
    "colab": {
     "base_uri": "https://localhost:8080/"
    },
    "id": "6ty_4ij-BzQ3",
    "outputId": "85de7644-d126-4522-f321-e7b74025f501"
   },
   "outputs": [],
   "source": [
    "# not_hentai.sort_values(['Score'], ascending=False)\n",
    "print(len(hentai))\n",
    "print(len(not_hentai))"
   ]
  },
  {
   "cell_type": "code",
   "execution_count": null,
   "id": "9",
   "metadata": {
    "id": "VcAlDp1pCsbj"
   },
   "outputs": [],
   "source": [
    "data = all_data[[\"anime_id\", \"English name\", \"Genres\", \"Score\"]]\n",
    "data = data[(data['Score'] != \"UNKNOWN\") & (data['Score'] != '')].astype({'Score': 'float'})"
   ]
  },
  {
   "cell_type": "code",
   "execution_count": null,
   "id": "10",
   "metadata": {
    "colab": {
     "base_uri": "https://localhost:8080/"
    },
    "id": "d53cd8b1",
    "outputId": "bfeb5aec-ccd4-4ced-adcb-c76c9d0bf57f"
   },
   "outputs": [],
   "source": [
    "data.dtypes\n",
    "\n",
    "mapped = map(get_genre_list, data[\"Genres\"].to_numpy().flatten().tolist())\n",
    "\n",
    "uniq = np.unique(list(chain.from_iterable(mapped))).tolist()\n",
    "\n",
    "print(len(uniq), uniq)"
   ]
  },
  {
   "cell_type": "code",
   "execution_count": null,
   "id": "11",
   "metadata": {
    "colab": {
     "base_uri": "https://localhost:8080/",
     "height": 424
    },
    "id": "76daa492",
    "outputId": "f2851cd0-eb92-46af-b94d-98fd4271b741"
   },
   "outputs": [],
   "source": [
    "two_mode_df = create_two_mode_df(data)\n",
    "\n",
    "two_mode_df"
   ]
  },
  {
   "cell_type": "code",
   "execution_count": null,
   "id": "12",
   "metadata": {
    "id": "bded43ba"
   },
   "outputs": [],
   "source": [
    "(weighted_matrix_np, weighted_matrix_index) = create_weighted_matrix2(two_mode_df)"
   ]
  },
  {
   "cell_type": "code",
   "execution_count": null,
   "id": "13",
   "metadata": {
    "id": "ekNtk5ZF5AG_"
   },
   "outputs": [],
   "source": [
    "weighted_matrix_df2 = pd.DataFrame(data=weighted_matrix_np, index=weighted_matrix_index, columns=weighted_matrix_index)\n"
   ]
  },
  {
   "cell_type": "code",
   "execution_count": null,
   "id": "14",
   "metadata": {
    "colab": {
     "base_uri": "https://localhost:8080/",
     "height": 822
    },
    "id": "FpqTlJAjwho1",
    "outputId": "512d143f-f118-423e-8e3f-9227728fd592"
   },
   "outputs": [],
   "source": [
    "weighted_matrix_df2"
   ]
  },
  {
   "cell_type": "code",
   "execution_count": null,
   "id": "15",
   "metadata": {
    "id": "e607669b"
   },
   "outputs": [],
   "source": [
    "weighted_matrix_df_pickle_file = \"weighted_matrix_df.df\"\n",
    "if os.path.exists(weighted_matrix_df_pickle_file):\n",
    "    weighted_matrix_df = pd.read_pickle(weighted_matrix_df_pickle_file)\n",
    "else:\n",
    "    weighted_matrix_df = weighted_matrix_df2\n",
    "    weighted_matrix_df.to_pickle(weighted_matrix_df_pickle_file)"
   ]
  },
  {
   "cell_type": "code",
   "execution_count": null,
   "id": "16",
   "metadata": {
    "colab": {
     "base_uri": "https://localhost:8080/",
     "height": 649
    },
    "id": "ef03d0cd",
    "outputId": "944f9986-c468-4d4e-899b-62e027c52623"
   },
   "outputs": [],
   "source": [
    "weighted_matrix_df"
   ]
  },
  {
   "cell_type": "code",
   "execution_count": null,
   "id": "17",
   "metadata": {
    "id": "uibiwXXK2pla"
   },
   "outputs": [],
   "source": []
  },
  {
   "cell_type": "code",
   "execution_count": null,
   "id": "18",
   "metadata": {
    "id": "04794d8e"
   },
   "outputs": [],
   "source": [
    "# weighted_df_pickle_file = \"weighted_df.df\"\n",
    "# if os.path.exists(weighted_df_pickle_file):\n",
    "#     weighted_df = pd.read_pickle(weighted_df_pickle_file)\n",
    "# else:\n",
    "#     weighted_df = create_weighted_df(weighted_matrix_df)\n",
    "#     weighted_df.to_pickle(weighted_df_pickle_file)"
   ]
  },
  {
   "cell_type": "code",
   "execution_count": null,
   "id": "19",
   "metadata": {
    "id": "a285e838"
   },
   "outputs": [],
   "source": [
    "# weighted_df"
   ]
  },
  {
   "cell_type": "code",
   "execution_count": null,
   "id": "20",
   "metadata": {
    "id": "94d64309"
   },
   "outputs": [],
   "source": [
    "# weighted_df.columns"
   ]
  },
  {
   "cell_type": "code",
   "execution_count": null,
   "id": "21",
   "metadata": {
    "id": "c9c73031"
   },
   "outputs": [],
   "source": [
    "# for i in [3, 2, 1]:\n",
    "# G = nx.from_pandas_edgelist(\n",
    "#         weighted_df, source='source',\n",
    "#         target='target', edge_attr='weight')\n",
    "\n",
    "plt.figure(figsize=(35,35))\n",
    "\n",
    "G = nx.from_numpy_array(weighted_matrix_np)\n",
    "graph_pos = nx.spring_layout(G)\n",
    "nx.draw_networkx_nodes(G, graph_pos, node_size=10, node_color='blue', alpha=0.3)\n",
    "nx.draw_networkx_edges(G, graph_pos)\n",
    "nx.draw_networkx_labels(G, graph_pos, font_size=8, font_family='sans-serif')\n",
    "\n",
    "# plt.show()\n",
    "\n",
    "# nx.draw(G)"
   ]
  },
  {
   "cell_type": "code",
   "execution_count": null,
   "id": "22",
   "metadata": {
    "colab": {
     "base_uri": "https://localhost:8080/",
     "height": 35
    },
    "id": "dStbbxisIMqE",
    "outputId": "8c132d33-33fc-48c5-e562-391f915a65b2"
   },
   "outputs": [],
   "source": [
    "plt.savefig(\"plot.svg\", dpi=1200)"
   ]
  },
  {
   "cell_type": "code",
   "execution_count": null,
   "id": "23",
   "metadata": {
    "id": "18683c20"
   },
   "outputs": [],
   "source": [
    "net = Network(notebook=True)\n",
    "net.from_nx(G)\n",
    "net.show(\"example.html\")"
   ]
  }
 ],
 "metadata": {
  "kernelspec": {
   "display_name": "Python 3 (ipykernel)",
   "language": "python",
   "name": "python3"
  },
  "language_info": {
   "codemirror_mode": {
    "name": "ipython",
    "version": 3
   },
   "file_extension": ".py",
   "mimetype": "text/x-python",
   "name": "python",
   "nbconvert_exporter": "python",
   "pygments_lexer": "ipython3",
   "version": "3.11.7"
  }
 },
 "nbformat": 4,
 "nbformat_minor": 5
}
